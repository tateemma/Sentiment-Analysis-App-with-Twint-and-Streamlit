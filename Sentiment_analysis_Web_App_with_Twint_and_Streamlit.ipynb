{
  "nbformat": 4,
  "nbformat_minor": 0,
  "metadata": {
    "colab": {
      "name": "Sentiment analysis Web App with Twint and Streamlit.ipynb",
      "provenance": [],
      "collapsed_sections": [],
      "include_colab_link": true
    },
    "kernelspec": {
      "display_name": "Python 3",
      "language": "python",
      "name": "python3"
    },
    "language_info": {
      "codemirror_mode": {
        "name": "ipython",
        "version": 3
      },
      "file_extension": ".py",
      "mimetype": "text/x-python",
      "name": "python",
      "nbconvert_exporter": "python",
      "pygments_lexer": "ipython3",
      "version": "3.6.8"
    }
  },
  "cells": [
    {
      "cell_type": "markdown",
      "metadata": {
        "id": "view-in-github",
        "colab_type": "text"
      },
      "source": [
        "<a href=\"https://colab.research.google.com/github/tateemma/Sentiment-Analysis-App-with-Twint-and-Streamlit/blob/main/Sentiment_analysis_Web_App_with_Twint_and_Streamlit.ipynb\" target=\"_parent\"><img src=\"https://colab.research.google.com/assets/colab-badge.svg\" alt=\"Open In Colab\"/></a>"
      ]
    },
    {
      "cell_type": "markdown",
      "metadata": {
        "id": "kA8LZBFVSu1q"
      },
      "source": [
        "#Twitter Data Sentiment Analysis Web App with Streamlit and Twint"
      ]
    },
    {
      "cell_type": "code",
      "metadata": {
        "id": "Okp5dGyUy-t_"
      },
      "source": [
        "#connect to google drive\n",
        "from google.colab import drive\n",
        "drive.mount('/content/drive')"
      ],
      "execution_count": null,
      "outputs": []
    },
    {
      "cell_type": "code",
      "metadata": {
        "id": "vxLDCfIGyzFZ"
      },
      "source": [
        "#update twint\r\n",
        "!pip install --upgrade --user -e git+https://github.com/twintproject/twint.git@origin/master#egg=twint"
      ],
      "execution_count": null,
      "outputs": []
    },
    {
      "cell_type": "code",
      "metadata": {
        "id": "Zr-rtbr0T8Pa"
      },
      "source": [
        "#install streamlit\r\n",
        "!pip install streamlit"
      ],
      "execution_count": null,
      "outputs": []
    },
    {
      "cell_type": "markdown",
      "metadata": {
        "id": "aIjqiTJITkbW"
      },
      "source": [
        "### Streamlit file"
      ]
    },
    {
      "cell_type": "code",
      "metadata": {
        "id": "6DsDVF5u9AbZ",
        "colab": {
          "base_uri": "https://localhost:8080/"
        },
        "outputId": "96f19fb1-ec39-479f-f699-1d43b1e0ae16"
      },
      "source": [
        "%%writefile sentiment.py\r\n",
        "import sys\r\n",
        "#sys.path.append(\"twint/\")\r\n",
        "import twint\r\n",
        "import textblob\r\n",
        "import re\r\n",
        "import streamlit as st\r\n",
        "from wordcloud import WordCloud, ImageColorGenerator\r\n",
        "import matplotlib.pyplot as plt\r\n",
        "\r\n",
        "# Set up TWINT config\r\n",
        "c = twint.Config()\r\n",
        "\r\n",
        "# Solve compatibility issues with notebooks and RunTime errors. You don't need this with streamlit!\r\n",
        "#import nest_asyncio\r\n",
        "#nest_asyncio.apply()\r\n",
        "\r\n",
        "st.header('Sentiment Analysis App')\r\n",
        "\r\n",
        "st.sidebar.header('Enter Search Term')\r\n",
        "\r\n",
        "search_term = st.sidebar.text_input('Type search term')\r\n",
        "\r\n",
        "c.Search = str(search_term)\r\n",
        "# Custom output format\r\n",
        "c.Format = \"Username: {username} |  Tweet: {tweet}\"\r\n",
        "c.Limit = 1000\r\n",
        "c.Pandas = True\r\n",
        "\r\n",
        "twint.run.Search(c)\r\n",
        "\r\n",
        "def available_columns():\r\n",
        "    return twint.output.panda.Tweets_df.columns\r\n",
        "\r\n",
        "def twint_to_pandas(columns):\r\n",
        "    return twint.output.panda.Tweets_df[columns]\r\n",
        "\r\n",
        "df_pd = twint_to_pandas([\"date\", \"username\", \"tweet\", \"hashtags\", \"nlikes\"])\r\n",
        "\r\n",
        "def clean_tweet(tweet): \r\n",
        "        ''' \r\n",
        "        Clean tweet text by removing links, special characters \r\n",
        "        using simple regex statements. \r\n",
        "        '''\r\n",
        "        return ' '.join(re.sub(\"(@[A-Za-z0-9]+)|([^0-9A-Za-z \\t])|(\\w+:\\/\\/\\S+)\", \" \", tweet).split()) \r\n",
        "\r\n",
        "def get_sentiment(tweet): \r\n",
        "        ''' \r\n",
        "        Utility function to classify sentiment of passed tweet \r\n",
        "        using textblob's sentiment method \r\n",
        "        '''\r\n",
        "        # create TextBlob object of passed tweet text \r\n",
        "        analysis = textblob.TextBlob(clean_tweet(tweet)) \r\n",
        "        # set sentiment \r\n",
        "        if analysis.sentiment.polarity > 0: \r\n",
        "            return 'positive'\r\n",
        "        elif analysis.sentiment.polarity == 0: \r\n",
        "            return 'neutral'\r\n",
        "        else: \r\n",
        "            return 'negative'\r\n",
        "\r\n",
        "df_pd['sentiment'] = df_pd.tweet.apply(lambda twt: get_sentiment(twt))\r\n",
        "\r\n",
        "#write percentages of tweets according to sentiments\r\n",
        "positive = (len(df_pd[df_pd['sentiment'] == 'positive'])/len(df_pd['sentiment'])) * 100\r\n",
        "st.sidebar.write(round(positive,2), '% Positive')\r\n",
        "\r\n",
        "neutral = (len(df_pd[df_pd['sentiment'] == 'neutral'])/len(df_pd['sentiment'])) * 100\r\n",
        "st.sidebar.write(round(neutral,2), '% Neutral')\r\n",
        "\r\n",
        "negative = (len(df_pd[df_pd['sentiment'] == 'negative'])/len(df_pd['sentiment'])) * 100\r\n",
        "st.sidebar.write(round(negative,2), '% Negative')\r\n",
        "\r\n",
        "st.subheader('Pie Chart')\r\n",
        "fig, ax = plt.subplots()\r\n",
        "ax.pie([positive, negative, neutral], radius=0.7, autopct='%1.2f%%')\r\n",
        "st.pyplot(fig)\r\n",
        "\r\n",
        "st.subheader('Wordcloud')\r\n",
        "cloud_tweets = df_pd.tweet.apply(lambda twt: clean_tweet(twt))\r\n",
        "wordcloud = WordCloud(background_color = 'white', width = 800, height = 350,).generate(str(cloud_tweets))\r\n",
        "st.image(wordcloud.to_array())\r\n"
      ],
      "execution_count": null,
      "outputs": [
        {
          "output_type": "stream",
          "text": [
            "Overwriting sentiment.py\n"
          ],
          "name": "stdout"
        }
      ]
    },
    {
      "cell_type": "markdown",
      "metadata": {
        "id": "hKZ9m6TlTwAe"
      },
      "source": [
        "### Run with ngrok (for google colab)"
      ]
    },
    {
      "cell_type": "code",
      "metadata": {
        "id": "Slm1uHR06Acl"
      },
      "source": [
        "!wget https://bin.equinox.io/c/4VmDzA7iaHb/ngrok-stable-linux-amd64.zip"
      ],
      "execution_count": null,
      "outputs": []
    },
    {
      "cell_type": "code",
      "metadata": {
        "id": "0ubrp82U6AZJ"
      },
      "source": [
        "!unzip ngrok-stable-linux-amd64.zip"
      ],
      "execution_count": null,
      "outputs": []
    },
    {
      "cell_type": "code",
      "metadata": {
        "id": "i9WSz9VnBPRv"
      },
      "source": [
        "get_ipython().system_raw('./ngrok http 8501 &')"
      ],
      "execution_count": null,
      "outputs": []
    },
    {
      "cell_type": "code",
      "metadata": {
        "colab": {
          "base_uri": "https://localhost:8080/"
        },
        "id": "6gKexSmYBPR6",
        "outputId": "0c9a825e-3235-40a2-9bf9-5e982740b33c"
      },
      "source": [
        "!curl -s http://localhost:4040/api/tunnels | python3 -c \\\n",
        "    'import sys, json; print(\"Execute the next cell and the go to the following URL: \" +json.load(sys.stdin)[\"tunnels\"][0][\"public_url\"])'"
      ],
      "execution_count": null,
      "outputs": [
        {
          "output_type": "stream",
          "text": [
            "Execute the next cell and the go to the following URL: https://c9a51c99deaa.ngrok.io\n"
          ],
          "name": "stdout"
        }
      ]
    },
    {
      "cell_type": "code",
      "metadata": {
        "id": "2xXmArXtBPR6"
      },
      "source": [
        "!streamlit run /content/sentiment.py"
      ],
      "execution_count": null,
      "outputs": []
    }
  ]
}